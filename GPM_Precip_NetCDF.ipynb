{
 "cells": [
  {
   "cell_type": "code",
   "execution_count": 2,
   "id": "b322b7fb-25d1-410c-b46b-5492940b1669",
   "metadata": {},
   "outputs": [],
   "source": [
    "#!pip install netCDF4"
   ]
  },
  {
   "cell_type": "code",
   "execution_count": 3,
   "id": "c4069eeb-706a-47ab-9969-1a52bd807cfc",
   "metadata": {},
   "outputs": [],
   "source": [
    "import netCDF4 as nc\n",
    "import numpy as np\n",
    "import os\n",
    "import glob #collect the .nc4 files inside the folder"
   ]
  },
  {
   "cell_type": "code",
   "execution_count": 4,
   "id": "40d06a60-5de3-4c79-a358-5ec716b12828",
   "metadata": {},
   "outputs": [],
   "source": [
    "folder = r'C:\\Users\\kojoa\\Downloads\\For_Caleb_NetCDF\\For_Caleb_NetCDF'"
   ]
  },
  {
   "cell_type": "code",
   "execution_count": 5,
   "id": "76cda355-c117-4f58-915e-49c8ebbec7c2",
   "metadata": {},
   "outputs": [
    {
     "name": "stdout",
     "output_type": "stream",
     "text": [
      "Processing: 3IMERG.20230929-S000000-E002959.nc4\n",
      "Processing: 3IMERG.20230929-S003000-E005959.nc4\n",
      "Processing: 3IMERG.20230929-S010000-E012959.nc4\n",
      "Processing: 3IMERG.20230929-S013000-E015959.nc4\n",
      "Processing: 3IMERG.20230929-S020000-E022959.nc4\n",
      "Processing: 3IMERG.20230929-S023000-E025959.nc4\n",
      "Processing: 3IMERG.20230929-S030000-E032959.nc4\n",
      "Processing: 3IMERG.20230929-S033000-E035959.nc4\n",
      "Processing: 3IMERG.20230929-S040000-E042959.nc4\n",
      "Processing: 3IMERG.20230929-S043000-E045959.nc4\n",
      "Processing: 3IMERG.20230929-S050000-E052959.nc4\n",
      "Processing: 3IMERG.20230929-S053000-E055959.nc4\n",
      "Processing: 3IMERG.20230929-S060000-E062959.nc4\n",
      "Processing: 3IMERG.20230929-S063000-E065959.nc4\n",
      "Processing: 3IMERG.20230929-S070000-E072959.nc4\n",
      "Processing: 3IMERG.20230929-S073000-E075959.nc4\n",
      "Processing: 3IMERG.20230929-S080000-E082959.nc4\n",
      "Processing: 3IMERG.20230929-S083000-E085959.nc4\n",
      "Processing: 3IMERG.20230929-S090000-E092959.nc4\n",
      "Processing: 3IMERG.20230929-S093000-E095959.nc4\n",
      "Processing: 3IMERG.20230929-S100000-E102959.nc4\n",
      "Processing: 3IMERG.20230929-S103000-E105959.nc4\n",
      "Processing: 3IMERG.20230929-S110000-E112959.nc4\n",
      "Processing: 3IMERG.20230929-S113000-E115959.nc4\n",
      "Processing: 3IMERG.20230929-S120000-E122959.nc4\n",
      "Processing: 3IMERG.20230929-S123000-E125959.nc4\n",
      "Processing: 3IMERG.20230929-S130000-E132959.nc4\n",
      "Processing: 3IMERG.20230929-S133000-E135959.nc4\n",
      "Processing: 3IMERG.20230929-S140000-E142959.nc4\n",
      "Processing: 3IMERG.20230929-S143000-E145959.nc4\n",
      "Processing: 3IMERG.20230929-S150000-E152959.nc4\n",
      "Processing: 3IMERG.20230929-S153000-E155959.nc4\n",
      "Processing: 3IMERG.20230929-S160000-E162959.nc4\n",
      "Processing: 3IMERG.20230929-S163000-E165959.nc4\n",
      "Processing: 3IMERG.20230929-S170000-E172959.nc4\n",
      "Processing: 3IMERG.20230929-S173000-E175959.nc4\n",
      "Processing: 3IMERG.20230929-S180000-E182959.nc4\n",
      "Processing: 3IMERG.20230929-S183000-E185959.nc4\n",
      "Processing: 3IMERG.20230929-S190000-E192959.nc4\n",
      "Processing: 3IMERG.20230929-S193000-E195959.nc4\n",
      "Processing: 3IMERG.20230929-S200000-E202959.nc4\n",
      "Processing: 3IMERG.20230929-S203000-E205959.nc4\n",
      "Processing: 3IMERG.20230929-S210000-E212959.nc4\n",
      "Processing: 3IMERG.20230929-S213000-E215959.nc4\n",
      "Processing: 3IMERG.20230929-S220000-E222959.nc4\n",
      "Processing: 3IMERG.20230929-S223000-E225959.nc4\n",
      "Processing: 3IMERG.20230929-S230000-E232959.nc4\n",
      "Processing: 3IMERG.20230929-S233000-E235959.nc4\n"
     ]
    }
   ],
   "source": [
    "# Get all .nc4 files in the folder\n",
    "file_paths = glob.glob(os.path.join(folder, '*.nc4'))\n",
    "\n",
    "# Target location\n",
    "target_lat = 40.872\n",
    "target_lon = -73.894\n",
    "\n",
    "# List to store precipitation values\n",
    "precip_values = []\n",
    "\n",
    "for file_path in file_paths:\n",
    "    filename = os.path.basename(file_path)\n",
    "    try:\n",
    "        ds = nc.Dataset(file_path, 'r')\n",
    "        print(f\"Processing: {os.path.basename(file_path)}\")\n",
    "\n",
    "        # Get the variable names if unsure\n",
    "        # print(ds.variables.keys())\n",
    "\n",
    "        # Read variables (adjust names if necessary)\n",
    "        precip = ds.variables['precipitation'][:]  # [time, lat, lon] or [time, lon, lat]\n",
    "        lats = ds.variables['lat'][:]\n",
    "        lons = ds.variables['lon'][:]\n",
    "\n",
    "        # Find nearest lat/lon index\n",
    "        lat_idx = (np.abs(lats - target_lat)).argmin()\n",
    "        lon_idx = (np.abs(lons - target_lon)).argmin()\n",
    "\n",
    "        file_has_value = False # Track if this file has a value > 0\n",
    "\n",
    "        # Loop over time dimension if it exists\n",
    "        for t in range(precip.shape[0]):\n",
    "            try:\n",
    "                val = precip[t, lat_idx, lon_idx]\n",
    "            except IndexError:\n",
    "                val = precip[t, lon_idx, lat_idx]  # Try alternate order if needed\n",
    "\n",
    "            if val > 0:\n",
    "                precip_values.append((val, filename)) #adds value and filename\n",
    "\n",
    "        if file_has_value:\n",
    "            print(f\"Precipitation found in: {filename}\")\n",
    "\n",
    "        ds.close()\n",
    "\n",
    "    except Exception as e:\n",
    "        print(f\"Error reading {file_path}: {e}\")"
   ]
  },
  {
   "cell_type": "markdown",
   "id": "bf8434af-e24e-40d8-adf3-e546bb84608a",
   "metadata": {},
   "source": [
    "Save to text file"
   ]
  },
  {
   "cell_type": "code",
   "execution_count": 6,
   "id": "57ae4dbe-5a0b-4c19-ae98-2695a27fa298",
   "metadata": {},
   "outputs": [
    {
     "name": "stdout",
     "output_type": "stream",
     "text": [
      "Saved 46 precipitation values > 0 to precip_values.txt\n"
     ]
    }
   ],
   "source": [
    "output_file = 'precip_values.txt'\n",
    "with open(output_file, 'w') as f:\n",
    "    for val, fname in precip_values:\n",
    "        f.write(f\"{val:.2f}, {fname}\\n\") #rounds each value to 2 decimals \n",
    "\n",
    "print(f\"Saved {len(precip_values)} precipitation values > 0 to {output_file}\")\n"
   ]
  },
  {
   "cell_type": "markdown",
   "id": "b7bbd493-19ce-424c-b2a5-19e053f34d19",
   "metadata": {},
   "source": [
    "Saving csv into directory path"
   ]
  },
  {
   "cell_type": "code",
   "execution_count": 7,
   "id": "97b6fe9d-901f-4122-a680-dfee2cc68acf",
   "metadata": {},
   "outputs": [
    {
     "name": "stdout",
     "output_type": "stream",
     "text": [
      "Saved 46 precipitation values > 0 to C:\\Users\\kojoa\\Downloads\\For_Caleb_NetCDF\\For_Caleb_NetCDFNetcdf_precip_values_table.csv\n"
     ]
    }
   ],
   "source": [
    "import pandas as pd\n",
    "\n",
    "df = pd.DataFrame(precip_values, columns=[\"Precipitation Value\", \"File Name\"])\n",
    "\n",
    "#rounding two decimal places\n",
    "df[\"Precipitation Value\"] = df[\"Precipitation Value\"].round(2)\n",
    "\n",
    "# Specify the directory path and file name\n",
    "directory_path = r'C:\\Users\\kojoa\\Downloads\\For_Caleb_NetCDF\\For_Caleb_NetCDF'\n",
    "file_name = \"Netcdf_precip_values_table.csv\"\n",
    "full_path = directory_path + file_name\n",
    "\n",
    "# Save the CSV in the specified directory\n",
    "df.to_csv(full_path, index=False)\n",
    "\n",
    "print(f\"Saved {len(df)} precipitation values > 0 to {full_path}\")\n"
   ]
  },
  {
   "cell_type": "code",
   "execution_count": 8,
   "id": "d2c5d0d2-1522-45b0-b220-64b06834ff72",
   "metadata": {},
   "outputs": [],
   "source": [
    "#Saving as a csv\n",
    "df = pd.DataFrame(precip_values, columns=[\"Precipitation Value\", \"File Name\"])\n",
    "\n",
    "#rounding to decimal places \n",
    "df[\"Precipitation Value\"] = df[\"Precipitation Value\"].round(2)\n",
    "\n",
    "#Save as CSV (table format)\n",
    "df.to_csv(\"Netcdf_precip_values_table.csv\", index=False)\n",
    "\n",
    "print(f\"Saved {len(df)} precipitation values > 0 to precip_values_table.csv\")"
   ]
  }
 ],
 "metadata": {
  "kernelspec": {
   "display_name": "Python 3 (ipykernel)",
   "language": "python",
   "name": "python3"
  },
  "language_info": {
   "codemirror_mode": {
    "name": "ipython",
    "version": 3
   },
   "file_extension": ".py",
   "mimetype": "text/x-python",
   "name": "python",
   "nbconvert_exporter": "python",
   "pygments_lexer": "ipython3",
   "version": "3.11.7"
  }
 },
 "nbformat": 4,
 "nbformat_minor": 5
}
